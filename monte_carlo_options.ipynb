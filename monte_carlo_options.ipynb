{
 "cells": [
  {
   "cell_type": "markdown",
   "metadata": {},
   "source": [
    "## Monte Carlo Simulation of Options Pricing"
   ]
  },
  {
   "cell_type": "markdown",
   "metadata": {},
   "source": [
    "From the derivation of the Black-Scholes option pricing formula (in derivation_of_black_scholes.ipynb):\n",
    "\n",
    "$ln S_T - ln S_0$ ~ $\\phi[(\\mu - \\frac{\\sigma ^2}{2}) T, \\sigma \\sqrt{T}]$\n",
    "\n",
    "$ln S_T$ ~ $\\phi[ln S_0 + (\\mu - \\frac{\\sigma ^2}{2}) T, \\sigma \\sqrt{T}]$\n",
    "\n",
    "The mean $ = (\\mu - \\frac{\\sigma ^2}{2})T $ , and the standard deviation $ = \\sigma \\sqrt{T} $\n",
    "\n",
    "We can turn these into psuedocode for mean and variance:\n",
    "\n",
    "sim_mean = (r - 0.5 * vol**2) * T\n",
    "\n",
    "sim_var = vol * np.sqrt(T)"
   ]
  },
  {
   "cell_type": "markdown",
   "metadata": {},
   "source": [
    "### Import dependencies"
   ]
  },
  {
   "cell_type": "code",
   "execution_count": 3,
   "metadata": {},
   "outputs": [],
   "source": [
    "import math\n",
    "import numpy as np\n",
    "import pandas as pd\n",
    "import datetime\n",
    "import scipy.stats as stats\n",
    "import matplotlib.pyplot as plt\n",
    "from pandas_datareader import data as pdr"
   ]
  },
  {
   "cell_type": "markdown",
   "metadata": {},
   "source": [
    "### Initialize the parameters"
   ]
  },
  {
   "cell_type": "code",
   "execution_count": 9,
   "metadata": {},
   "outputs": [],
   "source": [
    "# Stock Price\n",
    "S = 101.15\n",
    "# Strike\n",
    "K = 98.01             \n",
    "# Volatility\n",
    "vol = 0.0991            \n",
    "# Risk-free rate\n",
    "r = 0.01               \n",
    "# Number of timesteps\n",
    "N = 10                \n",
    "# Number of simulations\n",
    "M = 1000 \n",
    "# Market price of option\n",
    "market_value = 3.86\n",
    "# Time (in years) from now until option expiry\n",
    "# T = ((datetime.date(2023,2,17) - datetime.date.today()).days+1)/365    \n",
    "T = ((datetime.date(2022,3,17) - datetime.date(2022,1,17)).days+1)/365   "
   ]
  },
  {
   "cell_type": "markdown",
   "metadata": {},
   "source": [
    "### Code:"
   ]
  },
  {
   "cell_type": "code",
   "execution_count": 19,
   "metadata": {},
   "outputs": [
    {
     "name": "stdout",
     "output_type": "stream",
     "text": [
      "Call value is $3.478 with SE +/- 0.103\n"
     ]
    }
   ],
   "source": [
    "# Calculate the constants\n",
    "dt = T / N\n",
    "sim_mean = (r - 0.5 * vol**2) * dt\n",
    "sim_vol = vol * np.sqrt(dt)\n",
    "ln_S = np.log(S)\n",
    "\n",
    "# Standard error placeholders\n",
    "sum_CT = 0\n",
    "sum_CTsqd = 0\n",
    "\n",
    "# Monte Carlo method\n",
    "for i in range(M):\n",
    "    ln_St = ln_S\n",
    "    for j in range(N):\n",
    "        ln_St += sim_mean + sim_vol*np.random.normal()      # Add the mean (drift) and vol multiplied by normal random variable\n",
    "\n",
    "    ST = np.exp(ln_St)\n",
    "    CT = max(0, ST - K)\n",
    "    sum_CT += CT\n",
    "    sum_CTsqd += CT**2\n",
    "\n",
    "# Compute expectation and standard error\n",
    "exp_call_value = np.exp(-r*T)*sum_CT/M\n",
    "sigma = np.sqrt((sum_CTsqd - sum_CT**2/M)*np.exp(-2*r*T) / (M-1))\n",
    "std_error = sigma/np.sqrt(M)\n",
    "\n",
    "print(\"Call value is ${0} with SE +/- {1}\".format(np.round(exp_call_value,3), np.round(std_error, 3)))"
   ]
  },
  {
   "cell_type": "code",
   "execution_count": null,
   "metadata": {},
   "outputs": [],
   "source": []
  }
 ],
 "metadata": {
  "interpreter": {
   "hash": "aee8b7b246df8f9039afb4144a1f6fd8d2ca17a180786b69acc140d282b71a49"
  },
  "kernelspec": {
   "display_name": "Python 3.10.0 64-bit",
   "language": "python",
   "name": "python3"
  },
  "language_info": {
   "codemirror_mode": {
    "name": "ipython",
    "version": 3
   },
   "file_extension": ".py",
   "mimetype": "text/x-python",
   "name": "python",
   "nbconvert_exporter": "python",
   "pygments_lexer": "ipython3",
   "version": "3.10.0"
  },
  "orig_nbformat": 4
 },
 "nbformat": 4,
 "nbformat_minor": 2
}

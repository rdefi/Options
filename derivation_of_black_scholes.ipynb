{
 "cells": [
  {
   "cell_type": "markdown",
   "metadata": {},
   "source": [
    "## Derivation of Black Scholes Formula for Options Pricing"
   ]
  },
  {
   "cell_type": "markdown",
   "metadata": {},
   "source": [
    "### Markov Processes"
   ]
  },
  {
   "cell_type": "markdown",
   "metadata": {},
   "source": [
    "Stock prices are assumed to follow a Markov Process, which is a type of stochastic process where only the present variable is relevant in predicting the future. If the process has a normal distribution for one year of $\\phi$(0, 1), and you want to find the distribution for two years, you have to add the two normal distributions as they are independent due to the variable being a Markov Process. So for two years, mean = 0 + 0 = 0, variance = 1 + 1, and the distribution is therefore $\\phi (0, \\sqrt{2})$, or $\\phi (0, \\sqrt{T})$ for any time period $T$."
   ]
  },
  {
   "cell_type": "markdown",
   "metadata": {},
   "source": [
    "### Weiner Processes"
   ]
  },
  {
   "cell_type": "markdown",
   "metadata": {},
   "source": [
    "A Weiner Process is a type of Markov Process where mean change $ = 0$ and variance rate $ = 1$. The variable $z$ is considered a Weiner process if:\n",
    "1.\t$\\Delta z = \\epsilon \\sqrt{T}$ , where $\\epsilon$ has standard normal distribution $\\phi (0, 1)$ and\n",
    "2.\tThe values of $\\Delta z$ for any two different start intervals are independent. This implies $z$ follows a Markov process\n"
   ]
  },
  {
   "cell_type": "markdown",
   "metadata": {},
   "source": [
    "Number of intervals, $N$, equals total time divided by each length of time interval\n",
    "\t$N = \\frac{T}{\\Delta t}$\n"
   ]
  },
  {
   "cell_type": "markdown",
   "metadata": {},
   "source": [
    "The change in the value of $z$ over a long period of time:\n",
    "\n",
    "$\\sum_{i=1}^{N} \\epsilon _i \\Delta t$\n",
    "\n",
    "From property #2 of Weiner processes, $\\epsilon i$ are independent of each other, so $z(T) - z(0)$ is normally distributed, with: \n",
    "\n",
    "Mean $ = 0$\n",
    "\n",
    "Variance $ = N \\Delta t = T$ \n",
    "\n",
    "Standard Deviation $ = \\sqrt{T}$  \n"
   ]
  },
  {
   "cell_type": "markdown",
   "metadata": {},
   "source": [
    "### Generalized Weiner Process:"
   ]
  },
  {
   "cell_type": "markdown",
   "metadata": {},
   "source": [
    "For a variable $x$: $dx = adt + bdz$   \twhere $a$ and $b$ are constants\n",
    "\n",
    "The adt term implies $x$ has an expected drift rate of a per time\n",
    "\n",
    "The $bdz$ term is regarded as the addition of noise or variability    \n"
   ]
  },
  {
   "cell_type": "markdown",
   "metadata": {},
   "source": [
    "### Ito Process:"
   ]
  },
  {
   "cell_type": "markdown",
   "metadata": {},
   "source": [
    "An Ito Process is a generalized Weiner Process in which the parameters $a$ and $b$ are functions of the value of the underlying variable $x$ and time $t$. It is written as:\n",
    "\n",
    "$dx = a(x,t)dt + b(x,t)dt$  \n",
    "\n",
    "From $t$ to $t+\\Delta t$: \t\n",
    "\n",
    "$\\Delta x = a(x,t) \\Delta t + b(x,t) \\epsilon \\sqrt{\\Delta t}$ "
   ]
  },
  {
   "cell_type": "markdown",
   "metadata": {},
   "source": [
    "### Process for a Stock Price:"
   ]
  },
  {
   "cell_type": "markdown",
   "metadata": {},
   "source": [
    "The Weiner Process fails to capture a key aspect of stock prices: expected percentage return required by investors is independent of stock prices. As a result, the assumption of constant expcted drift rate is inappropriate, and it needs to be replaced by the assumption that the expected return ( = expected_drift / stock_price) is actually the constant item."
   ]
  },
  {
   "cell_type": "markdown",
   "metadata": {},
   "source": [
    "If $S$ is the stock price at time $t$, then the expected drift rate in $S$ is assumed to be $\\mu S$ for some constant $\\mu$, where $\\mu$ is the expected return on the stock."
   ]
  },
  {
   "cell_type": "markdown",
   "metadata": {},
   "source": [
    "This model implies $\\Delta S = \\mu S \\Delta t$ "
   ]
  },
  {
   "cell_type": "markdown",
   "metadata": {},
   "source": [
    "As $\\Delta t$ -> $0$:\n",
    "\n",
    "$dS = \\mu Sdt$\n",
    "\n",
    "$\\frac{dS}{S} = \\mu dt$"
   ]
  },
  {
   "cell_type": "markdown",
   "metadata": {},
   "source": [
    "Integrating: $S_T = \\int_0^T \\frac{dS}{S} = \\int_0^T \\mu dt = S_0 e^{\\mu T} $"
   ]
  },
  {
   "cell_type": "markdown",
   "metadata": {},
   "source": [
    "In practice, a stock exhibits volatility:\n",
    "\n",
    "$dS = \\mu Sdt$ + $volatility term$\n",
    "\n",
    "A reasonable assumption is that the variability of the percentage return during $\\Delta t$ is the same regardless of stock price.\n",
    "\n",
    "This suggests the standard deviation should be proportional to the stock price:\n",
    "\n",
    "$dS = \\mu Sdt + \\sigma Sdz$"
   ]
  },
  {
   "cell_type": "markdown",
   "metadata": {},
   "source": [
    "This can be rewritten as \n",
    "\n",
    "$\\frac{dS}{S} = \\mu dt + \\sigma dz $\n",
    "\n",
    "which is often referred to as Geometric Brownian Motion and is a widely used model of stock behavior."
   ]
  },
  {
   "cell_type": "markdown",
   "metadata": {},
   "source": [
    "The discrete time version of Geometric Brownian Motion can be written as:  \n",
    "\n",
    "$\\frac{\\Delta S}{S} = \\mu \\Delta t + \\sigma \\epsilon \\sqrt{t}$ \n",
    "\n",
    "$\\Delta S = \\mu S \\Delta t + \\sigma S \\epsilon \\sqrt{t} $"
   ]
  },
  {
   "cell_type": "markdown",
   "metadata": {},
   "source": [
    "### Ito's Lemma"
   ]
  },
  {
   "cell_type": "markdown",
   "metadata": {},
   "source": [
    "Suppose $x$ follows the Ito Process $dx = a(x,t)dt + b(x,t)dt$ \n",
    "\n",
    "where $dz$ is a Weiner Process and $a$ and $b$ are functions of $x$ and $t$.\n",
    "\n",
    "$x$ has a drift rate of $a$ and a variance rate of $b^2$"
   ]
  },
  {
   "cell_type": "markdown",
   "metadata": {},
   "source": [
    "Ito's Lemma shows:\n",
    "\n",
    "#### $dG = (\\frac{\\partial G}{\\partial x} a + \\frac{\\partial G}{\\partial t} + \\frac{1}{2} \\frac{\\partial^2 G}{\\partial x^2} b^2) dt + \\frac{\\partial G}{\\partial x} bdz$"
   ]
  },
  {
   "cell_type": "markdown",
   "metadata": {},
   "source": [
    "$dG$ is the same Weiner process as in $dx = a(x,t)dt + b(x,t)dt$ \n",
    "\n",
    "Thus $G$ also follows an Ito Process with:\n",
    "\n",
    "a drift rate of:  $\\frac{\\partial G}{\\partial x}$*$a$* + $\\frac{\\partial G}{\\partial t}$ + $\\frac{1}{2}$ $\\frac{\\partial ^2 G}{\\partial x^2}$*$b^2$*\n",
    "\n",
    "and a variance rate of:  $(\\frac{\\partial G}{\\partial x})^2$*$b^2$*\n"
   ]
  },
  {
   "cell_type": "markdown",
   "metadata": {},
   "source": [
    "From Ito's lemma, it follows that the process followed by a function $G$ of $S$ and $t$ is:\n",
    "\n",
    "#### $dG =  (\\frac{\\partial G}{\\partial x} \\mu S + \\frac{\\partial G}{\\partial t} + \\frac{1}{2} \\frac{\\partial^2 G}{\\partial x^2}\\sigma^2 S^2) dt + \\frac{\\partial G}{\\partial x} \\sigma Sdz$"
   ]
  },
  {
   "cell_type": "markdown",
   "metadata": {},
   "source": [
    "Use Ito's lemma to derive the process followed by $lnS$ when $S$ follows $dS = \\mu Sdt + \\sigma Sdz$\n",
    "\n",
    "Since $\\frac{\\partial G}{\\partial S} = \\frac{1}{S}$ , $\\frac{\\partial^2 G}{\\partial S^2} = -\\frac{1}{S^2}$ , $\\frac{\\partial G}{\\partial t} = 0$ ,\n",
    "\n",
    "it follows that the process followed by $G$ is:\n",
    "\n",
    "$dG =  (\\mu - \\frac{\\sigma ^2}{2}) dt + \\sigma dz $"
   ]
  },
  {
   "cell_type": "markdown",
   "metadata": {},
   "source": [
    "Since $\\mu, \\sigma$ are constant, $dG = (\\mu - \\frac{\\sigma ^2}{2}) dt + \\sigma dz $ indicates $G = lnS$ follows a generalized Weiner process, with constant drift rate $\\mu - \\frac{\\sigma ^2}{2}$ and constant variance $\\sigma ^2$."
   ]
  },
  {
   "cell_type": "markdown",
   "metadata": {},
   "source": [
    "Therefore, the change in $S$ from time $0$ to $T$ is normally distributed with mean $ (\\mu - \\frac{\\sigma ^2}{2}) T$ and variance $\\sigma ^2 T$:\n",
    "\n",
    "$ln S_T - ln S_0$ ~ $\\phi[(\\mu - \\frac{\\sigma ^2}{2}) T, \\sigma \\sqrt{T}]$\n",
    "\n",
    "$ln S_T$ ~ $\\phi[ln S_0 + (\\mu - \\frac{\\sigma ^2}{2}) T, \\sigma \\sqrt{T}]$"
   ]
  },
  {
   "cell_type": "markdown",
   "metadata": {},
   "source": [
    "### Black-Scholes-Merton differential equation"
   ]
  },
  {
   "cell_type": "markdown",
   "metadata": {},
   "source": [
    "Suppose $f$ is the price of an option contingent on $S$. The variable $f$ must be some function of $S$ and $t$. Substituting into the earlier equation, \n",
    "\n",
    "$ dS = \\mu S dt + \\sigma S dz$\n",
    "\n",
    "#### $df =  (\\frac{\\partial f}{\\partial S} \\mu S + \\frac{\\partial f}{\\partial t} + \\frac{1}{2} \\frac{\\partial^2 f}{\\partial S^2}\\sigma^2 S^2) dt + \\frac{\\partial f}{\\partial S} \\sigma Sdz$\n",
    "\n",
    "and the discrete versions are:\n",
    "\n",
    "$ \\Delta S = \\mu S \\Delta t + \\sigma S \\Delta z$\n",
    "\n",
    "#### $ \\Delta f =  (\\frac{\\partial f}{\\partial S} \\mu S + \\frac{\\partial f}{\\partial t} + \\frac{1}{2} \\frac{\\partial^2 f}{\\partial S^2}\\sigma^2 S^2) \\Delta t + \\frac{\\partial f}{\\partial S} \\sigma S \\Delta z$"
   ]
  },
  {
   "cell_type": "markdown",
   "metadata": {},
   "source": [
    "Recall from Ito's lemma that the Weiner processes underlying $f$ and $S$ are the same. \n",
    "\n",
    "It follows that by choosing a portfolio of the stock and the derivative, the Weiner process can be eliminated. \n",
    "\n",
    "The appropriate portfolio is:\n",
    "\n",
    "$-1$ : derivative\n",
    "\n",
    "$ + \\partial f / \\partial S : Shares $\n",
    "\n",
    "Therefore, the portfolio value $\\Pi = -f + \\frac{\\partial f}{\\partial S} S$"
   ]
  },
  {
   "cell_type": "markdown",
   "metadata": {},
   "source": [
    "The change in the porfolio value in time interval $\\Delta t$ is given by:\n",
    "\n",
    "$\\Delta \\Pi = -\\Delta f + \\frac{\\partial f}{\\partial S} \\Delta S$\n",
    "\n",
    "Substituting the equations for $\\Delta S$ and $\\Delta f$ from above:\n",
    "\n",
    "#### $ \\Delta \\Pi =  (-\\frac{\\partial f}{\\partial t} - \\frac{1}{2} \\frac{\\partial^2 f}{\\partial S^2}\\sigma^2 S^2) \\Delta t $\n"
   ]
  },
  {
   "cell_type": "markdown",
   "metadata": {},
   "source": [
    "It follows that $ \\Delta \\Pi =  r \\Pi \\Delta t $ , where $r$ is the risk-free rate\n",
    "\n",
    "Substituting the equations for $\\Pi$ and $\\Delta \\Pi$ into the latest equation yields:\n",
    "\n",
    "#### $ (\\frac{\\partial f}{\\partial t} + \\frac{1}{2} \\frac{\\partial^2 f}{\\partial S^2}\\sigma^2 S^2) \\Delta t = r(f - \\frac{\\partial f}{\\partial S}S) \\Delta t$\n",
    "\n",
    "so that\n",
    "#### $ \\frac{\\partial f}{\\partial t} + rS \\frac{\\partial f}{\\partial S} + \\frac{1}{2} \\sigma^2 S^2 \\frac{\\partial^2 f}{\\partial S^2} = rf $\n",
    "\n",
    "^ This is the Black-Scholes-Merton differential equation."
   ]
  },
  {
   "cell_type": "markdown",
   "metadata": {},
   "source": [
    "### European call and put pricing"
   ]
  },
  {
   "cell_type": "markdown",
   "metadata": {},
   "source": [
    "In the case of a European call option, the forward $ f = max(S-K, 0) $\n",
    "\n",
    "and in the case of a European put option, the forward $ f = max(K-S, 0) $\n",
    "\n",
    "Expanding the case of a European call option, $ f = S_0 - Ke^{-rT} $,\n",
    "\n",
    "Expanding the case of a European put option, $ f = Ke^{-rT} - S_0 $"
   ]
  },
  {
   "cell_type": "markdown",
   "metadata": {},
   "source": [
    "### Black-Scholes Pricing Formula"
   ]
  },
  {
   "cell_type": "markdown",
   "metadata": {},
   "source": [
    "For a European call option on a non-dividend paying stock:\n",
    "\n",
    "$ c = S_0 N(d_1) - Ke^{-rT} N(d_2) $\n",
    "\n",
    "and for a European put option on a non-dividend paying stock:\n",
    "\n",
    "$ p = Ke^{-rT} N(-d_2) - S_0 N(-d_1) $\n",
    "\n",
    "where: \n",
    "\n",
    "$ d_1 = \\frac {ln(S_0 / K) + (r + \\sigma^2 / 2) T}{\\sigma \\sqrt{T}} $\n",
    " \n",
    "$ d_2 = \\frac {ln(S_0 / K) + (r - \\sigma^2 / 2) T}{\\sigma \\sqrt{T}} = d_1 - \\sigma \\sqrt{T}$ \n",
    "\n",
    "$N(x)$ is the cumulative probability distribution (cdf) for a standardized normal distribution."
   ]
  },
  {
   "cell_type": "markdown",
   "metadata": {},
   "source": []
  }
 ],
 "metadata": {
  "language_info": {
   "name": "python"
  },
  "orig_nbformat": 4
 },
 "nbformat": 4,
 "nbformat_minor": 2
}
